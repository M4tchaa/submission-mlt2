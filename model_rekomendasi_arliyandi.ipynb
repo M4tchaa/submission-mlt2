{
 "cells": [
  {
   "cell_type": "markdown",
   "id": "14761529",
   "metadata": {},
   "source": [
    "## Submission Sistem Rekomendasi : Arliyandi ##"
   ]
  },
  {
   "cell_type": "markdown",
   "id": "e4cf8fb8",
   "metadata": {},
   "source": [
    "### Load Library"
   ]
  },
  {
   "cell_type": "code",
   "execution_count": 1,
   "id": "5caf89b5",
   "metadata": {},
   "outputs": [],
   "source": [
    "import pandas as pd\n",
    "import numpy as np\n",
    "import matplotlib.pyplot as plt\n",
    "import seaborn as sns\n",
    "from sklearn.preprocessing import LabelEncoder, StandardScaler\n",
    "from sklearn.metrics.pairwise import cosine_similarity\n",
    "from sklearn.impute import SimpleImputer\n",
    "import pickle"
   ]
  },
  {
   "cell_type": "markdown",
   "id": "d6d2ae6d",
   "metadata": {},
   "source": [
    "## Data Exploration ##"
   ]
  },
  {
   "cell_type": "code",
   "execution_count": 2,
   "id": "11456852",
   "metadata": {},
   "outputs": [
    {
     "data": {
      "text/html": [
       "<div>\n",
       "<style scoped>\n",
       "    .dataframe tbody tr th:only-of-type {\n",
       "        vertical-align: middle;\n",
       "    }\n",
       "\n",
       "    .dataframe tbody tr th {\n",
       "        vertical-align: top;\n",
       "    }\n",
       "\n",
       "    .dataframe thead th {\n",
       "        text-align: right;\n",
       "    }\n",
       "</style>\n",
       "<table border=\"1\" class=\"dataframe\">\n",
       "  <thead>\n",
       "    <tr style=\"text-align: right;\">\n",
       "      <th></th>\n",
       "      <th>Laptop</th>\n",
       "      <th>Status</th>\n",
       "      <th>Brand</th>\n",
       "      <th>Model</th>\n",
       "      <th>CPU</th>\n",
       "      <th>RAM</th>\n",
       "      <th>Storage</th>\n",
       "      <th>Storage type</th>\n",
       "      <th>GPU</th>\n",
       "      <th>Screen</th>\n",
       "      <th>Touch</th>\n",
       "      <th>Final Price</th>\n",
       "    </tr>\n",
       "  </thead>\n",
       "  <tbody>\n",
       "    <tr>\n",
       "      <th>0</th>\n",
       "      <td>ASUS ExpertBook B1 B1502CBA-EJ0436X Intel Core...</td>\n",
       "      <td>New</td>\n",
       "      <td>Asus</td>\n",
       "      <td>ExpertBook</td>\n",
       "      <td>Intel Core i5</td>\n",
       "      <td>8</td>\n",
       "      <td>512</td>\n",
       "      <td>SSD</td>\n",
       "      <td>NaN</td>\n",
       "      <td>15.6</td>\n",
       "      <td>No</td>\n",
       "      <td>1009.00</td>\n",
       "    </tr>\n",
       "    <tr>\n",
       "      <th>1</th>\n",
       "      <td>Alurin Go Start Intel Celeron N4020/8GB/256GB ...</td>\n",
       "      <td>New</td>\n",
       "      <td>Alurin</td>\n",
       "      <td>Go</td>\n",
       "      <td>Intel Celeron</td>\n",
       "      <td>8</td>\n",
       "      <td>256</td>\n",
       "      <td>SSD</td>\n",
       "      <td>NaN</td>\n",
       "      <td>15.6</td>\n",
       "      <td>No</td>\n",
       "      <td>299.00</td>\n",
       "    </tr>\n",
       "    <tr>\n",
       "      <th>2</th>\n",
       "      <td>ASUS ExpertBook B1 B1502CBA-EJ0424X Intel Core...</td>\n",
       "      <td>New</td>\n",
       "      <td>Asus</td>\n",
       "      <td>ExpertBook</td>\n",
       "      <td>Intel Core i3</td>\n",
       "      <td>8</td>\n",
       "      <td>256</td>\n",
       "      <td>SSD</td>\n",
       "      <td>NaN</td>\n",
       "      <td>15.6</td>\n",
       "      <td>No</td>\n",
       "      <td>789.00</td>\n",
       "    </tr>\n",
       "    <tr>\n",
       "      <th>3</th>\n",
       "      <td>MSI Katana GF66 12UC-082XES Intel Core i7-1270...</td>\n",
       "      <td>New</td>\n",
       "      <td>MSI</td>\n",
       "      <td>Katana</td>\n",
       "      <td>Intel Core i7</td>\n",
       "      <td>16</td>\n",
       "      <td>1000</td>\n",
       "      <td>SSD</td>\n",
       "      <td>RTX 3050</td>\n",
       "      <td>15.6</td>\n",
       "      <td>No</td>\n",
       "      <td>1199.00</td>\n",
       "    </tr>\n",
       "    <tr>\n",
       "      <th>4</th>\n",
       "      <td>HP 15S-FQ5085NS Intel Core i5-1235U/16GB/512GB...</td>\n",
       "      <td>New</td>\n",
       "      <td>HP</td>\n",
       "      <td>15S</td>\n",
       "      <td>Intel Core i5</td>\n",
       "      <td>16</td>\n",
       "      <td>512</td>\n",
       "      <td>SSD</td>\n",
       "      <td>NaN</td>\n",
       "      <td>15.6</td>\n",
       "      <td>No</td>\n",
       "      <td>669.01</td>\n",
       "    </tr>\n",
       "  </tbody>\n",
       "</table>\n",
       "</div>"
      ],
      "text/plain": [
       "                                              Laptop Status   Brand  \\\n",
       "0  ASUS ExpertBook B1 B1502CBA-EJ0436X Intel Core...    New    Asus   \n",
       "1  Alurin Go Start Intel Celeron N4020/8GB/256GB ...    New  Alurin   \n",
       "2  ASUS ExpertBook B1 B1502CBA-EJ0424X Intel Core...    New    Asus   \n",
       "3  MSI Katana GF66 12UC-082XES Intel Core i7-1270...    New     MSI   \n",
       "4  HP 15S-FQ5085NS Intel Core i5-1235U/16GB/512GB...    New      HP   \n",
       "\n",
       "        Model            CPU  RAM  Storage Storage type       GPU  Screen  \\\n",
       "0  ExpertBook  Intel Core i5    8      512          SSD       NaN    15.6   \n",
       "1          Go  Intel Celeron    8      256          SSD       NaN    15.6   \n",
       "2  ExpertBook  Intel Core i3    8      256          SSD       NaN    15.6   \n",
       "3      Katana  Intel Core i7   16     1000          SSD  RTX 3050    15.6   \n",
       "4         15S  Intel Core i5   16      512          SSD       NaN    15.6   \n",
       "\n",
       "  Touch  Final Price  \n",
       "0    No      1009.00  \n",
       "1    No       299.00  \n",
       "2    No       789.00  \n",
       "3    No      1199.00  \n",
       "4    No       669.01  "
      ]
     },
     "execution_count": 2,
     "metadata": {},
     "output_type": "execute_result"
    }
   ],
   "source": [
    "df = pd.read_csv('laptops.csv')\n",
    "df.head()\n"
   ]
  },
  {
   "cell_type": "markdown",
   "id": "6b2f04af",
   "metadata": {},
   "source": [
    "Dataset yang digunakan berisi informasi spesifikasi laptop dari berbagai merek dan model. Total terdapat 2160 entri data, masing-masing memiliki 12 fitur.\n",
    "\n",
    "Beberapa fitur utama pada dataset meliputi:\n",
    "- Brand, Model, CPU, GPU: Informasi spesifikasi hardware\n",
    "- RAM, Storage, Storage type, Screen, Touch: komponen teknis\n",
    "- Final Price: Harga akhir laptop."
   ]
  },
  {
   "cell_type": "code",
   "execution_count": 3,
   "id": "e149f7e5",
   "metadata": {},
   "outputs": [
    {
     "name": "stdout",
     "output_type": "stream",
     "text": [
      "<class 'pandas.core.frame.DataFrame'>\n",
      "RangeIndex: 2160 entries, 0 to 2159\n",
      "Data columns (total 12 columns):\n",
      " #   Column        Non-Null Count  Dtype  \n",
      "---  ------        --------------  -----  \n",
      " 0   Laptop        2160 non-null   object \n",
      " 1   Status        2160 non-null   object \n",
      " 2   Brand         2160 non-null   object \n",
      " 3   Model         2160 non-null   object \n",
      " 4   CPU           2160 non-null   object \n",
      " 5   RAM           2160 non-null   int64  \n",
      " 6   Storage       2160 non-null   int64  \n",
      " 7   Storage type  2118 non-null   object \n",
      " 8   GPU           789 non-null    object \n",
      " 9   Screen        2156 non-null   float64\n",
      " 10  Touch         2160 non-null   object \n",
      " 11  Final Price   2160 non-null   float64\n",
      "dtypes: float64(2), int64(2), object(8)\n",
      "memory usage: 202.6+ KB\n"
     ]
    }
   ],
   "source": [
    "df.info()"
   ]
  },
  {
   "cell_type": "markdown",
   "id": "e7a3659a",
   "metadata": {},
   "source": [
    "Dari hasil eksplorasi awal:\n",
    "\n",
    "- Jumlah data: 2160 baris\n",
    "- Jumlah kolom: 12 fitur.\n",
    "- terdapat beberapa kolom yang kosong, dan perlu penyesuaian di proses cleaning nantinya"
   ]
  },
  {
   "cell_type": "code",
   "execution_count": 4,
   "id": "627d4ab0",
   "metadata": {},
   "outputs": [
    {
     "data": {
      "text/html": [
       "<div>\n",
       "<style scoped>\n",
       "    .dataframe tbody tr th:only-of-type {\n",
       "        vertical-align: middle;\n",
       "    }\n",
       "\n",
       "    .dataframe tbody tr th {\n",
       "        vertical-align: top;\n",
       "    }\n",
       "\n",
       "    .dataframe thead th {\n",
       "        text-align: right;\n",
       "    }\n",
       "</style>\n",
       "<table border=\"1\" class=\"dataframe\">\n",
       "  <thead>\n",
       "    <tr style=\"text-align: right;\">\n",
       "      <th></th>\n",
       "      <th>RAM</th>\n",
       "      <th>Storage</th>\n",
       "      <th>Screen</th>\n",
       "      <th>Final Price</th>\n",
       "    </tr>\n",
       "  </thead>\n",
       "  <tbody>\n",
       "    <tr>\n",
       "      <th>count</th>\n",
       "      <td>2160.000000</td>\n",
       "      <td>2160.000000</td>\n",
       "      <td>2156.000000</td>\n",
       "      <td>2160.000000</td>\n",
       "    </tr>\n",
       "    <tr>\n",
       "      <th>mean</th>\n",
       "      <td>15.413889</td>\n",
       "      <td>596.294444</td>\n",
       "      <td>15.168112</td>\n",
       "      <td>1312.638509</td>\n",
       "    </tr>\n",
       "    <tr>\n",
       "      <th>std</th>\n",
       "      <td>9.867815</td>\n",
       "      <td>361.220506</td>\n",
       "      <td>1.203329</td>\n",
       "      <td>911.475417</td>\n",
       "    </tr>\n",
       "    <tr>\n",
       "      <th>min</th>\n",
       "      <td>4.000000</td>\n",
       "      <td>0.000000</td>\n",
       "      <td>10.100000</td>\n",
       "      <td>201.050000</td>\n",
       "    </tr>\n",
       "    <tr>\n",
       "      <th>25%</th>\n",
       "      <td>8.000000</td>\n",
       "      <td>256.000000</td>\n",
       "      <td>14.000000</td>\n",
       "      <td>661.082500</td>\n",
       "    </tr>\n",
       "    <tr>\n",
       "      <th>50%</th>\n",
       "      <td>16.000000</td>\n",
       "      <td>512.000000</td>\n",
       "      <td>15.600000</td>\n",
       "      <td>1031.945000</td>\n",
       "    </tr>\n",
       "    <tr>\n",
       "      <th>75%</th>\n",
       "      <td>16.000000</td>\n",
       "      <td>1000.000000</td>\n",
       "      <td>15.600000</td>\n",
       "      <td>1708.970000</td>\n",
       "    </tr>\n",
       "    <tr>\n",
       "      <th>max</th>\n",
       "      <td>128.000000</td>\n",
       "      <td>4000.000000</td>\n",
       "      <td>18.000000</td>\n",
       "      <td>7150.470000</td>\n",
       "    </tr>\n",
       "  </tbody>\n",
       "</table>\n",
       "</div>"
      ],
      "text/plain": [
       "               RAM      Storage       Screen  Final Price\n",
       "count  2160.000000  2160.000000  2156.000000  2160.000000\n",
       "mean     15.413889   596.294444    15.168112  1312.638509\n",
       "std       9.867815   361.220506     1.203329   911.475417\n",
       "min       4.000000     0.000000    10.100000   201.050000\n",
       "25%       8.000000   256.000000    14.000000   661.082500\n",
       "50%      16.000000   512.000000    15.600000  1031.945000\n",
       "75%      16.000000  1000.000000    15.600000  1708.970000\n",
       "max     128.000000  4000.000000    18.000000  7150.470000"
      ]
     },
     "execution_count": 4,
     "metadata": {},
     "output_type": "execute_result"
    }
   ],
   "source": [
    "df.describe()"
   ]
  },
  {
   "cell_type": "markdown",
   "id": "b29dde43",
   "metadata": {},
   "source": [
    "Hasil analisis deskriptif menunjukkan variasi spesifikasi:\n",
    "- RAM berkisar antara 4GB hingga 128GB, dengan median di 16GB\n",
    "- Kapasitas storage mulai dari 0GB (kemungkinan error entri) hingga 4TB.\n",
    "- Ukuran layar (screen) dominan di sekitar 15.6 inci\n",
    "- Harga laptop bervariasi cukup lebar, mulai dari sekitar $201 hingga $7150"
   ]
  },
  {
   "cell_type": "code",
   "execution_count": 5,
   "id": "d4b2469c",
   "metadata": {},
   "outputs": [
    {
     "data": {
      "text/plain": [
       "Laptop             0\n",
       "Status             0\n",
       "Brand              0\n",
       "Model              0\n",
       "CPU                0\n",
       "RAM                0\n",
       "Storage            0\n",
       "Storage type      42\n",
       "GPU             1371\n",
       "Screen             4\n",
       "Touch              0\n",
       "Final Price        0\n",
       "dtype: int64"
      ]
     },
     "execution_count": 5,
     "metadata": {},
     "output_type": "execute_result"
    }
   ],
   "source": [
    "df.isnull().sum()"
   ]
  },
  {
   "cell_type": "markdown",
   "id": "477ad674",
   "metadata": {},
   "source": [
    "Berdasarkan informasi diatas, terdapat beberapa fitur yang memiliki missing calue :\n",
    "- Storage type: 42 missing value\n",
    "- GPU: 1371 missing value\n",
    "- Screen: 4 missing value"
   ]
  },
  {
   "cell_type": "code",
   "execution_count": 6,
   "id": "66110297",
   "metadata": {},
   "outputs": [
    {
     "data": {
      "image/png": "[encoded data removed]",
      "text/plain": [
       "<Figure size 800x500 with 1 Axes>"
      ]
     },
     "metadata": {},
     "output_type": "display_data"
    }
   ],
   "source": [
    "plt.figure(figsize=(8,5))\n",
    "sns.histplot(df['Final Price'], bins=50, kde=True)\n",
    "plt.title('Distribusi Harga Laptop')\n",
    "plt.xlabel('Final Price (Standardized)')\n",
    "plt.ylabel('Jumlah Data')\n",
    "plt.show()"
   ]
  },
  {
   "cell_type": "markdown",
   "id": "63040c95",
   "metadata": {},
   "source": [
    "Dapat kita perhatikan, sebaran harga laptop paling banyak di harga $500 - $1500"
   ]
  },
  {
   "cell_type": "code",
   "execution_count": 7,
   "id": "4e03cbcb",
   "metadata": {},
   "outputs": [
    {
     "data": {
      "image/png": "[encoded data removed]",
      "text/plain": [
       "<Figure size 800x500 with 1 Axes>"
      ]
     },
     "metadata": {},
     "output_type": "display_data"
    }
   ],
   "source": [
    "plt.figure(figsize=(8,5))\n",
    "sns.boxplot(x=df['RAM'])\n",
    "plt.title('Distribusi RAM Laptop')\n",
    "plt.xlabel('RAM (Standardized)')\n",
    "plt.show()"
   ]
  },
  {
   "cell_type": "markdown",
   "id": "815bf0f8",
   "metadata": {},
   "source": [
    "Untuk Ram, Distribusi size nya paling banyak di 8 - 16 Gb"
   ]
  },
  {
   "cell_type": "markdown",
   "id": "f8d4c531",
   "metadata": {},
   "source": [
    "## Data Cleaning ##"
   ]
  },
  {
   "cell_type": "code",
   "execution_count": 8,
   "id": "a09736fc",
   "metadata": {},
   "outputs": [],
   "source": [
    "df = df.drop(columns=['Laptop', 'Status'])"
   ]
  },
  {
   "cell_type": "markdown",
   "id": "5a5aa1f3",
   "metadata": {},
   "source": [
    "Drop kolom Laptop dan status karena tidak berkaitan denan model nantinya"
   ]
  },
  {
   "cell_type": "code",
   "execution_count": 9,
   "id": "81d172a6",
   "metadata": {},
   "outputs": [
    {
     "name": "stderr",
     "output_type": "stream",
     "text": [
      "/tmp/ipykernel_16137/922764840.py:1: FutureWarning: A value is trying to be set on a copy of a DataFrame or Series through chained assignment using an inplace method.\n",
      "The behavior will change in pandas 3.0. This inplace method will never work because the intermediate object on which we are setting values always behaves as a copy.\n",
      "\n",
      "For example, when doing 'df[col].method(value, inplace=True)', try using 'df.method({col: value}, inplace=True)' or df[col] = df[col].method(value) instead, to perform the operation inplace on the original object.\n",
      "\n",
      "\n",
      "  df['Storage type'].fillna(df['Storage type'].mode()[0], inplace=True)\n"
     ]
    }
   ],
   "source": [
    "df['Storage type'].fillna(df['Storage type'].mode()[0], inplace=True)"
   ]
  },
  {
   "cell_type": "markdown",
   "id": "1c52c199",
   "metadata": {},
   "source": [
    "Isi storage Type dengan mode, untuk mengatasi missing value. Metode ini dipilih karena missing value tidak terlalu banyak dan tipe gpu tidak terlalu banyak berdampak besar pada seharusnya pada model"
   ]
  },
  {
   "cell_type": "code",
   "execution_count": 10,
   "id": "20f6b3ca",
   "metadata": {},
   "outputs": [
    {
     "name": "stderr",
     "output_type": "stream",
     "text": [
      "/tmp/ipykernel_16137/3843799078.py:1: FutureWarning: A value is trying to be set on a copy of a DataFrame or Series through chained assignment using an inplace method.\n",
      "The behavior will change in pandas 3.0. This inplace method will never work because the intermediate object on which we are setting values always behaves as a copy.\n",
      "\n",
      "For example, when doing 'df[col].method(value, inplace=True)', try using 'df.method({col: value}, inplace=True)' or df[col] = df[col].method(value) instead, to perform the operation inplace on the original object.\n",
      "\n",
      "\n",
      "  df['GPU'].fillna('Unknown', inplace=True)\n"
     ]
    }
   ],
   "source": [
    "df['GPU'].fillna('Unknown', inplace=True)"
   ]
  },
  {
   "cell_type": "markdown",
   "id": "797f7a9f",
   "metadata": {},
   "source": [
    "Untuk GPU, missing value kita isi dengan 'unknown'. Bisa juga diisi dengan Integrated, tapi karena value awalnya memang kosong jadi lebih aman saya isi dengan unknown."
   ]
  },
  {
   "cell_type": "code",
   "execution_count": 11,
   "id": "80373e3a",
   "metadata": {},
   "outputs": [
    {
     "name": "stderr",
     "output_type": "stream",
     "text": [
      "/tmp/ipykernel_16137/1750864341.py:1: FutureWarning: A value is trying to be set on a copy of a DataFrame or Series through chained assignment using an inplace method.\n",
      "The behavior will change in pandas 3.0. This inplace method will never work because the intermediate object on which we are setting values always behaves as a copy.\n",
      "\n",
      "For example, when doing 'df[col].method(value, inplace=True)', try using 'df.method({col: value}, inplace=True)' or df[col] = df[col].method(value) instead, to perform the operation inplace on the original object.\n",
      "\n",
      "\n",
      "  df['Screen'].fillna(df['Screen'].median(), inplace=True)\n"
     ]
    }
   ],
   "source": [
    "df['Screen'].fillna(df['Screen'].median(), inplace=True)"
   ]
  },
  {
   "cell_type": "markdown",
   "id": "e05e7fc0",
   "metadata": {},
   "source": [
    "## Data Preparation ##"
   ]
  },
  {
   "cell_type": "code",
   "execution_count": 12,
   "id": "51f676b7",
   "metadata": {},
   "outputs": [],
   "source": [
    "categorical_cols = ['Brand', 'Model', 'CPU', 'Storage type', 'GPU', 'Touch']\n",
    "label_encoders = {}\n",
    "\n",
    "for col in categorical_cols:\n",
    "    le = LabelEncoder()\n",
    "    df[col] = le.fit_transform(df[col])\n",
    "    label_encoders[col] = le"
   ]
  },
  {
   "cell_type": "markdown",
   "id": "f20d7e9b",
   "metadata": {},
   "source": [
    "Fitur kategorikal seperti Brand, Model, CPU, Storage type, GPU, dan Touch tidak dapat langsung digunakan dalam bentuk string. Oleh karena itu, diterapkan proses encoding menggunakan 'Label Encoding' untuk mengubah nilai string menjadi numerik."
   ]
  },
  {
   "cell_type": "code",
   "execution_count": 13,
   "id": "7c26474d",
   "metadata": {},
   "outputs": [],
   "source": [
    "# Scaling numerik\n",
    "numerical_cols = ['RAM', 'Storage', 'Screen', 'Final Price']\n",
    "scaler = StandardScaler()\n",
    "df[numerical_cols] = scaler.fit_transform(df[numerical_cols])"
   ]
  },
  {
   "cell_type": "markdown",
   "id": "91851492",
   "metadata": {},
   "source": [
    "Beberapa fitur numerik memiliki skala yang sangat bervariasi (misalnya: RAM, Storage, dan Final Price). Untuk menyamakan skala dan menghindari dominasi fitur tertentu pada perhitungan similarity, diterapkan 'Standard Scaler' sehingga setiap fitur memiliki mean = 0 dan standar deviasi = 1."
   ]
  },
  {
   "cell_type": "code",
   "execution_count": 14,
   "id": "f78b2308",
   "metadata": {},
   "outputs": [
    {
     "name": "stdout",
     "output_type": "stream",
     "text": [
      "   Brand  Model  CPU       RAM   Storage  Storage type  GPU    Screen  Touch  \\\n",
      "0      3     42   17 -0.751494 -0.233414             0   44  0.358619      0   \n",
      "1      1     54   14 -0.751494 -0.942287             0   44  0.358619      0   \n",
      "2      3     42   16 -0.751494 -0.942287             0   44  0.358619      0   \n",
      "3     14     58   18  0.059410  1.117874             0   17  0.358619      0   \n",
      "4      9      4   17  0.059410 -0.233414             0   44  0.358619      0   \n",
      "\n",
      "   Final Price  \n",
      "0    -0.333206  \n",
      "1    -1.112343  \n",
      "2    -0.574629  \n",
      "3    -0.124704  \n",
      "4    -0.706303  \n",
      "<class 'pandas.core.frame.DataFrame'>\n",
      "RangeIndex: 2160 entries, 0 to 2159\n",
      "Data columns (total 10 columns):\n",
      " #   Column        Non-Null Count  Dtype  \n",
      "---  ------        --------------  -----  \n",
      " 0   Brand         2160 non-null   int64  \n",
      " 1   Model         2160 non-null   int64  \n",
      " 2   CPU           2160 non-null   int64  \n",
      " 3   RAM           2160 non-null   float64\n",
      " 4   Storage       2160 non-null   float64\n",
      " 5   Storage type  2160 non-null   int64  \n",
      " 6   GPU           2160 non-null   int64  \n",
      " 7   Screen        2160 non-null   float64\n",
      " 8   Touch         2160 non-null   int64  \n",
      " 9   Final Price   2160 non-null   float64\n",
      "dtypes: float64(4), int64(6)\n",
      "memory usage: 168.9 KB\n",
      "None\n",
      "             Brand        Model          CPU           RAM       Storage  \\\n",
      "count  2160.000000  2160.000000  2160.000000  2.160000e+03  2.160000e+03   \n",
      "mean      8.990741    68.268981    15.508796 -9.539694e-17 -1.085551e-16   \n",
      "std       5.751203    34.744637     4.384477  1.000232e+00  1.000232e+00   \n",
      "min       0.000000     0.000000     0.000000 -1.156946e+00 -1.651159e+00   \n",
      "25%       3.000000    42.000000    14.000000 -7.514942e-01 -9.422866e-01   \n",
      "50%       9.000000    69.000000    17.000000  5.940999e-02 -2.334141e-01   \n",
      "75%      13.000000    98.000000    18.000000  5.940999e-02  1.117874e+00   \n",
      "max      26.000000   120.000000    27.000000  1.141207e+01  9.424974e+00   \n",
      "\n",
      "       Storage type          GPU        Screen        Touch   Final Price  \n",
      "count   2160.000000  2160.000000  2.160000e+03  2160.000000  2.160000e+03  \n",
      "mean       0.025926    34.706944 -1.282924e-16     0.105093  1.990178e-16  \n",
      "std        0.158951    12.931922  1.000232e+00     0.306744  1.000232e+00  \n",
      "min        0.000000     0.000000 -4.216789e+00     0.000000 -1.219831e+00  \n",
      "25%        0.000000    20.000000 -9.724090e-01     0.000000 -7.150022e-01  \n",
      "50%        0.000000    44.000000  3.586188e-01     0.000000 -3.080264e-01  \n",
      "75%        0.000000    44.000000  3.586188e-01     0.000000  4.349248e-01  \n",
      "max        1.000000    44.000000  2.355160e+00     1.000000  6.406298e+00  \n"
     ]
    }
   ],
   "source": [
    "print(df.head())\n",
    "print(df.info())\n",
    "print(df.describe())"
   ]
  },
  {
   "cell_type": "markdown",
   "id": "8488b307",
   "metadata": {},
   "source": [
    "Setelah dilakukan encoding dan scaling:\n",
    "- Dataset memiliki total 2160 baris dan 10 kolom.\n",
    "- Semua data siap diproses ke tahap modeling\n",
    "- Tidak ada lagi missing value setelah tahap data cleaning sebelumnya."
   ]
  },
  {
   "cell_type": "code",
   "execution_count": 15,
   "id": "5181a3bb",
   "metadata": {},
   "outputs": [],
   "source": [
    "# Siapkan fitur untuk similarity\n",
    "feature_cols = categorical_cols + numerical_cols\n",
    "features = df[feature_cols].values\n"
   ]
  },
  {
   "cell_type": "markdown",
   "id": "2416daff",
   "metadata": {},
   "source": [
    "## Modelling ##"
   ]
  },
  {
   "cell_type": "markdown",
   "id": "20f77b1a",
   "metadata": {},
   "source": [
    "### Content Based Filtering ###"
   ]
  },
  {
   "cell_type": "code",
   "execution_count": 16,
   "id": "bffeff4a",
   "metadata": {},
   "outputs": [],
   "source": [
    "# Hitung cosine similarity\n",
    "similarity = cosine_similarity(features)"
   ]
  },
  {
   "cell_type": "code",
   "execution_count": 17,
   "id": "edca0aa4",
   "metadata": {},
   "outputs": [],
   "source": [
    "# Fungsi rekomendasi\n",
    "def recommend(index, top_n=5):\n",
    "    score = list(enumerate(similarity[index]))\n",
    "    score = sorted(score, key=lambda x: x[1], reverse=True)\n",
    "    score = score[1:top_n+1]\n",
    "    indices = [i[0] for i in score]\n",
    "    return df.iloc[indices]"
   ]
  },
  {
   "cell_type": "code",
   "execution_count": 18,
   "id": "8656c9c5",
   "metadata": {},
   "outputs": [
    {
     "name": "stdout",
     "output_type": "stream",
     "text": [
      "Top-5 rekomendasi untuk data ke-10 (Content-Based Filtering):\n"
     ]
    },
    {
     "data": {
      "text/html": [
       "<div>\n",
       "<style scoped>\n",
       "    .dataframe tbody tr th:only-of-type {\n",
       "        vertical-align: middle;\n",
       "    }\n",
       "\n",
       "    .dataframe tbody tr th {\n",
       "        vertical-align: top;\n",
       "    }\n",
       "\n",
       "    .dataframe thead th {\n",
       "        text-align: right;\n",
       "    }\n",
       "</style>\n",
       "<table border=\"1\" class=\"dataframe\">\n",
       "  <thead>\n",
       "    <tr style=\"text-align: right;\">\n",
       "      <th></th>\n",
       "      <th>Brand</th>\n",
       "      <th>Model</th>\n",
       "      <th>CPU</th>\n",
       "      <th>RAM</th>\n",
       "      <th>Storage</th>\n",
       "      <th>Storage type</th>\n",
       "      <th>GPU</th>\n",
       "      <th>Screen</th>\n",
       "      <th>Touch</th>\n",
       "      <th>Final Price</th>\n",
       "    </tr>\n",
       "  </thead>\n",
       "  <tbody>\n",
       "    <tr>\n",
       "      <th>1581</th>\n",
       "      <td>13</td>\n",
       "      <td>108</td>\n",
       "      <td>14</td>\n",
       "      <td>-0.751494</td>\n",
       "      <td>-0.942287</td>\n",
       "      <td>0</td>\n",
       "      <td>44</td>\n",
       "      <td>0.358619</td>\n",
       "      <td>0</td>\n",
       "      <td>-1.067592</td>\n",
       "    </tr>\n",
       "    <tr>\n",
       "      <th>456</th>\n",
       "      <td>13</td>\n",
       "      <td>108</td>\n",
       "      <td>14</td>\n",
       "      <td>-0.751494</td>\n",
       "      <td>-0.942287</td>\n",
       "      <td>0</td>\n",
       "      <td>44</td>\n",
       "      <td>0.358619</td>\n",
       "      <td>0</td>\n",
       "      <td>-1.086566</td>\n",
       "    </tr>\n",
       "    <tr>\n",
       "      <th>1192</th>\n",
       "      <td>13</td>\n",
       "      <td>108</td>\n",
       "      <td>14</td>\n",
       "      <td>-0.751494</td>\n",
       "      <td>-0.942287</td>\n",
       "      <td>0</td>\n",
       "      <td>44</td>\n",
       "      <td>0.358619</td>\n",
       "      <td>0</td>\n",
       "      <td>-0.989437</td>\n",
       "    </tr>\n",
       "    <tr>\n",
       "      <th>1582</th>\n",
       "      <td>13</td>\n",
       "      <td>108</td>\n",
       "      <td>14</td>\n",
       "      <td>-1.156946</td>\n",
       "      <td>-0.942287</td>\n",
       "      <td>0</td>\n",
       "      <td>44</td>\n",
       "      <td>0.358619</td>\n",
       "      <td>0</td>\n",
       "      <td>-1.044306</td>\n",
       "    </tr>\n",
       "    <tr>\n",
       "      <th>686</th>\n",
       "      <td>13</td>\n",
       "      <td>108</td>\n",
       "      <td>14</td>\n",
       "      <td>-1.156946</td>\n",
       "      <td>-1.296723</td>\n",
       "      <td>0</td>\n",
       "      <td>44</td>\n",
       "      <td>0.358619</td>\n",
       "      <td>0</td>\n",
       "      <td>-1.134290</td>\n",
       "    </tr>\n",
       "  </tbody>\n",
       "</table>\n",
       "</div>"
      ],
      "text/plain": [
       "      Brand  Model  CPU       RAM   Storage  Storage type  GPU    Screen  \\\n",
       "1581     13    108   14 -0.751494 -0.942287             0   44  0.358619   \n",
       "456      13    108   14 -0.751494 -0.942287             0   44  0.358619   \n",
       "1192     13    108   14 -0.751494 -0.942287             0   44  0.358619   \n",
       "1582     13    108   14 -1.156946 -0.942287             0   44  0.358619   \n",
       "686      13    108   14 -1.156946 -1.296723             0   44  0.358619   \n",
       "\n",
       "      Touch  Final Price  \n",
       "1581      0    -1.067592  \n",
       "456       0    -1.086566  \n",
       "1192      0    -0.989437  \n",
       "1582      0    -1.044306  \n",
       "686       0    -1.134290  "
      ]
     },
     "execution_count": 18,
     "metadata": {},
     "output_type": "execute_result"
    }
   ],
   "source": [
    "print(\"Top-5 rekomendasi untuk data ke-10 (Content-Based Filtering):\")\n",
    "recommend(10)"
   ]
  },
  {
   "cell_type": "code",
   "execution_count": null,
   "id": "abd6a5b1",
   "metadata": {},
   "outputs": [],
   "source": [
    "def evaluate_mean_similarity(index, top_n=5):\n",
    "    score = list(enumerate(similarity[index]))\n",
    "    score = sorted(score, key=lambda x: x[1], reverse=True)\n",
    "    score = score[1:top_n+1] #di +1 karena dikecualikan index yg dijadikan percobaan\n",
    "    similarities = [x[1] for x in score]\n",
    "    return sum(similarities) / top_n"
   ]
  },
  {
   "cell_type": "code",
   "execution_count": 21,
   "id": "1a11c2b4",
   "metadata": {},
   "outputs": [
    {
     "name": "stdout",
     "output_type": "stream",
     "text": [
      "Mean Cosine Similarity untuk index yg dipilih: 1.0000\n"
     ]
    }
   ],
   "source": [
    "score_mean_cosine = evaluate_mean_similarity(10, top_n=5)\n",
    "print(f\"Mean Cosine Similarity untuk index yg dipilih: {score_mean_cosine:.4f}\")"
   ]
  },
  {
   "cell_type": "markdown",
   "id": "7c891756",
   "metadata": {},
   "source": [
    "Semua rekomendasi memiliki kesamaan penuh (cosine similarity = 1) terhadap item acuan — artinya vektor fitur mereka identik setelah proses normalisasi.\n",
    "\n",
    "Ini terjadi kemungkinan karena fitur utama seperti Brand, Model, CPU, GPU, Storage type, dan Screen identik, dan hanya RAM, Storage, atau Final Price yang sedikit berbeda — yang tidak cukup besar untuk menurunkan similarity."
   ]
  },
  {
   "cell_type": "markdown",
   "id": "06b10d44",
   "metadata": {},
   "source": [
    "Berdasarkan perhitungan Mean Cosine Similarity, sistem menghasilkan skor 1.0000 untuk data ke-10. Ini menunjukkan bahwa seluruh item yang direkomendasikan sangat mirip secara fitur dengan item tersebut. Rekomendasi ini relevan untuk pendekatan Content-Based Filtering yang mengandalkan kemiripan antar item satu sama lainny."
   ]
  },
  {
   "cell_type": "markdown",
   "id": "3412ea66",
   "metadata": {},
   "source": []
  }
 ],
 "metadata": {
  "kernelspec": {
   "display_name": "submission-mlt2",
   "language": "python",
   "name": "python3"
  },
  "language_info": {
   "codemirror_mode": {
    "name": "ipython",
    "version": 3
   },
   "file_extension": ".py",
   "mimetype": "text/x-python",
   "name": "python",
   "nbconvert_exporter": "python",
   "pygments_lexer": "ipython3",
   "version": "3.10.18"
  }
 },
 "nbformat": 4,
 "nbformat_minor": 5
}
